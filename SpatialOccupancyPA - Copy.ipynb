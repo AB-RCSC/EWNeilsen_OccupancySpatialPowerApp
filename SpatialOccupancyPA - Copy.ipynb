{
 "cells": [
  {
   "cell_type": "code",
   "execution_count": 1,
   "id": "fde28711",
   "metadata": {},
   "outputs": [],
   "source": [
    "%%capture\n",
    "import os\n",
    "from IPython.display import Javascript\n",
    "\n",
    "os.environ['R_HOME'] = 'C:\\Program Files\\R\\R-4.4.2'"
   ]
  },
  {
   "cell_type": "code",
   "execution_count": 2,
   "id": "2f206531-1710-40eb-8a4e-d06091997f02",
   "metadata": {},
   "outputs": [],
   "source": [
    "# !python -m ipykernel install --user --name=ericapp --display-name \"Python3(ericapp)\""
   ]
  },
  {
   "cell_type": "code",
   "execution_count": 3,
   "id": "8fac2cc3-54e3-419b-98c8-6f3fbb02e159",
   "metadata": {},
   "outputs": [
    {
     "name": "stderr",
     "output_type": "stream",
     "text": [
      "C:\\Users\\alifr\\anaconda3\\envs\\ericapp\\Lib\\site-packages\\rpy2\\robjects\\packages.py:366: UserWarning: The symbol 'quartz' is not in this R namespace/package.\n",
      "  warnings.warn(\n"
     ]
    }
   ],
   "source": [
    "%load_ext rpy2.ipython\n",
    "%run -i ./MDT_Functions_copy.py"
   ]
  },
  {
   "cell_type": "code",
   "execution_count": 4,
   "id": "1da3d14f",
   "metadata": {},
   "outputs": [
    {
     "name": "stdout",
     "output_type": "stream",
     "text": [
      "D:\\ABMI_Official\\EricCodePractice\\EWNeilsen_OccupancySpatialPowerApp\n",
      "The study area has (417996.4415538451, 795945.195356781, 1126884.4543278955, 1581144.825542611). \n",
      "It has 76 rows and 91 columns.\n",
      "\n",
      "------------------\n",
      "Finished inputing Use vars: ['elevation', 'water_proximity']\n",
      "\n"
     ]
    },
    {
     "name": "stderr",
     "output_type": "stream",
     "text": [
      "C:\\Users\\alifr\\anaconda3\\envs\\ericapp\\Lib\\site-packages\\osgeo\\gdal.py:311: FutureWarning: Neither gdal.UseExceptions() nor gdal.DontUseExceptions() has been explicitly called. In GDAL 4.0, exceptions will be enabled by default.\n",
      "  warnings.warn(\n"
     ]
    },
    {
     "data": {
      "application/vnd.jupyter.widget-view+json": {
       "model_id": "ab8e53191d474637a7268fdb548e3823",
       "version_major": 2,
       "version_minor": 0
      },
      "text/plain": [
       "HBox(children=(VBox(children=(FloatSlider(value=0.5, description='trueOcc:', max=1.0, min=0.01), FloatSlider(v…"
      ]
     },
     "metadata": {},
     "output_type": "display_data"
    }
   ],
   "source": [
    "0.01### INPUT DATA\n",
    "inputSpatial()\n",
    "\n",
    "# SIMULATE RESPONSE\n",
    "simulateReponse()\n",
    "\n",
    "# ## simulate resposne\n",
    "# Javascript(\"Jupyter.notebook.execute_cells([2])\")"
   ]
  },
  {
   "cell_type": "code",
   "execution_count": 5,
   "id": "c05fdf88-99e3-4be7-8f24-b18113359e1f",
   "metadata": {},
   "outputs": [],
   "source": [
    "# print(saAreaKM)"
   ]
  },
  {
   "cell_type": "code",
   "execution_count": 10,
   "id": "72e6ea7c-9588-4642-9491-79de5b7882b6",
   "metadata": {},
   "outputs": [
    {
     "data": {
      "application/vnd.jupyter.widget-view+json": {
       "model_id": "396c7514f3004468aafabcd1a736de21",
       "version_major": 2,
       "version_minor": 0
      },
      "text/plain": [
       "VBox(children=(IntSlider(value=1, description='camConfig:', max=3, min=1), IntSlider(value=1, description='sit…"
      ]
     },
     "metadata": {},
     "output_type": "display_data"
    }
   ],
   "source": [
    "## SIMULATE OCCUANPCY DATA\n",
    "simulateOccupancyData()"
   ]
  },
  {
   "cell_type": "code",
   "execution_count": 7,
   "id": "72b7963a-441d-4b42-9368-58c1032233ea",
   "metadata": {},
   "outputs": [],
   "source": [
    "# %R -i cwd\n",
    "# %R -i trueOcc\n",
    "# %R -i popPX\n",
    "# %R -i N\n",
    "# %R -i meanDetection"
   ]
  },
  {
   "cell_type": "code",
   "execution_count": 8,
   "id": "dfc54004-65e6-4df6-9210-b14a8602b90c",
   "metadata": {},
   "outputs": [],
   "source": [
    "# !pip install rasterio"
   ]
  },
  {
   "cell_type": "code",
   "execution_count": 9,
   "id": "df2212e4-a1ad-4f42-b7ef-2d9a37731d11",
   "metadata": {},
   "outputs": [],
   "source": [
    "# import rasterio\n",
    "# import matplotlib.pyplot as plt\n",
    "\n",
    "# # Path to the TIFF file\n",
    "# tiff_path = \"Data/SpatialLayers/SimulatedDetection.tif\"\n",
    "\n",
    "# # Open the raster file\n",
    "# with rasterio.open(tiff_path) as src:\n",
    "#     img = src.read(1)  # Read the first band (assuming single-band TIFF)\n",
    "\n",
    "# # Display the image\n",
    "# plt.imshow(img, cmap='gray')  # Use 'viridis' or other color maps if needed\n",
    "# plt.colorbar(label=\"Pixel Values\")\n",
    "# plt.title(\"TIFF Image Display\")\n",
    "# plt.show()"
   ]
  },
  {
   "cell_type": "code",
   "execution_count": null,
   "id": "c6ad7381-1444-4aad-a210-f160e0bce3db",
   "metadata": {},
   "outputs": [],
   "source": []
  },
  {
   "cell_type": "code",
   "execution_count": null,
   "id": "83368ff9-b2b0-4416-9964-d432e66821e3",
   "metadata": {},
   "outputs": [],
   "source": []
  },
  {
   "cell_type": "code",
   "execution_count": null,
   "id": "78745163-4fc7-4ce1-b088-47628f2ceb83",
   "metadata": {},
   "outputs": [],
   "source": []
  },
  {
   "cell_type": "code",
   "execution_count": 7,
   "id": "0c85b051-3d7a-46c0-96a3-edd13b87c9de",
   "metadata": {},
   "outputs": [],
   "source": [
    "# !pip install ipyleaflet"
   ]
  },
  {
   "cell_type": "code",
   "execution_count": 2,
   "id": "ce96260c-05bb-493d-8906-d7a5cc20d1ca",
   "metadata": {},
   "outputs": [],
   "source": [
    "# plot_output = widgets.Output()"
   ]
  },
  {
   "cell_type": "code",
   "execution_count": 3,
   "id": "220778c4-ea2c-4995-bd87-5c024bb168d5",
   "metadata": {},
   "outputs": [],
   "source": [
    "# def update_center(value):\n",
    "#     with plot_output:\n",
    "#         plot_output.clear_output(wait=True)\n",
    "#         print(value)"
   ]
  },
  {
   "cell_type": "code",
   "execution_count": 4,
   "id": "6fa78f58-2bf6-4332-a4b3-107bae1ae9ca",
   "metadata": {},
   "outputs": [],
   "source": [
    "# def on_location_changed(event):\n",
    "#     value = marker.location\n",
    "#     update_center(value)\n",
    "\n",
    "# marker.observe(on_location_changed, 'location')"
   ]
  },
  {
   "cell_type": "code",
   "execution_count": 5,
   "id": "9dcd1f2d-c0a7-4053-b247-b6f5f0209c43",
   "metadata": {},
   "outputs": [],
   "source": [
    "# import ipywidgets as widgets\n",
    "# # from ipyleaflet import Map, Marker\n",
    "# from IPython.display import display\n",
    "\n",
    "# center = (52.204793, 360.121558)\n",
    "# map = Map(center=center, zoom=12)\n",
    "\n",
    "# # Add a draggable marker to the map\n",
    "# # Dragging the marker updates the marker.location value in Python\n",
    "# marker = Marker(location=center, draggable=True)\n",
    "# # print(marker.location)\n",
    "# map.add_control(marker)\n",
    "\n",
    "# display(map)"
   ]
  },
  {
   "cell_type": "code",
   "execution_count": null,
   "id": "6af3f18a-dca5-41d0-bd89-c79fefde0b55",
   "metadata": {},
   "outputs": [],
   "source": []
  }
 ],
 "metadata": {
  "kernelspec": {
   "display_name": "Python3(ericapp)",
   "language": "python",
   "name": "ericapp"
  },
  "language_info": {
   "codemirror_mode": {
    "name": "ipython",
    "version": 3
   },
   "file_extension": ".py",
   "mimetype": "text/x-python",
   "name": "python",
   "nbconvert_exporter": "python",
   "pygments_lexer": "ipython3",
   "version": "3.13.1"
  }
 },
 "nbformat": 4,
 "nbformat_minor": 5
}
