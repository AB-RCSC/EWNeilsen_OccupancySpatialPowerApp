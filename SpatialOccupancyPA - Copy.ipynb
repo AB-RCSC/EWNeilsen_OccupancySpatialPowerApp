{
 "cells": [
  {
   "cell_type": "code",
   "execution_count": 1,
   "id": "fde28711",
   "metadata": {},
   "outputs": [],
   "source": [
    "%%capture\n",
    "import os\n",
    "from IPython.display import Javascript\n",
    "\n",
    "os.environ['R_HOME'] = 'C:\\Program Files\\R\\R-4.4.2'"
   ]
  },
  {
   "cell_type": "code",
   "execution_count": 2,
   "id": "2f206531-1710-40eb-8a4e-d06091997f02",
   "metadata": {},
   "outputs": [],
   "source": [
    "# !python -m ipykernel install --user --name=ericapp --display-name \"Python3(ericapp)\""
   ]
  },
  {
   "cell_type": "code",
   "execution_count": 3,
   "id": "8fac2cc3-54e3-419b-98c8-6f3fbb02e159",
   "metadata": {},
   "outputs": [
    {
     "name": "stderr",
     "output_type": "stream",
     "text": [
      "C:\\Users\\alifr\\anaconda3\\envs\\ericapp\\Lib\\site-packages\\rpy2\\robjects\\packages.py:366: UserWarning: The symbol 'quartz' is not in this R namespace/package.\n",
      "  warnings.warn(\n"
     ]
    }
   ],
   "source": [
    "%load_ext rpy2.ipython\n",
    "%run -i ./MDT_Functions_copy.py"
   ]
  },
  {
   "cell_type": "code",
   "execution_count": 4,
   "id": "1da3d14f",
   "metadata": {},
   "outputs": [
    {
     "name": "stdout",
     "output_type": "stream",
     "text": [
      "D:\\ABMI_Official\\EricCodePractice\\EWNeilsen_OccupancySpatialPowerApp\n",
      "The study area has (417996.4415538451, 795945.195356781, 1126884.4543278955, 1581144.825542611). \n",
      "It has 76 rows and 91 columns.\n",
      "\n",
      "------------------\n",
      "Finished inputing Use vars: ['elevation', 'water_proximity']\n",
      "\n"
     ]
    },
    {
     "name": "stderr",
     "output_type": "stream",
     "text": [
      "C:\\Users\\alifr\\anaconda3\\envs\\ericapp\\Lib\\site-packages\\osgeo\\gdal.py:311: FutureWarning: Neither gdal.UseExceptions() nor gdal.DontUseExceptions() has been explicitly called. In GDAL 4.0, exceptions will be enabled by default.\n",
      "  warnings.warn(\n"
     ]
    },
    {
     "data": {
      "application/vnd.jupyter.widget-view+json": {
       "model_id": "b96acf9f8b674ce8bf325e4db114b36f",
       "version_major": 2,
       "version_minor": 0
      },
      "text/plain": [
       "HBox(children=(VBox(children=(FloatSlider(value=0.5, description='trueOcc:', max=1.0, min=0.01), FloatSlider(v…"
      ]
     },
     "metadata": {},
     "output_type": "display_data"
    }
   ],
   "source": [
    "0.01### INPUT DATA\n",
    "inputSpatial()\n",
    "\n",
    "# SIMULATE RESPONSE\n",
    "simulateReponse()\n",
    "\n",
    "# ## simulate resposne\n",
    "# Javascript(\"Jupyter.notebook.execute_cells([2])\")"
   ]
  },
  {
   "cell_type": "code",
   "execution_count": 5,
   "id": "c05fdf88-99e3-4be7-8f24-b18113359e1f",
   "metadata": {},
   "outputs": [],
   "source": [
    "# print(saAreaKM)"
   ]
  },
  {
   "cell_type": "code",
   "execution_count": 6,
   "id": "72e6ea7c-9588-4642-9491-79de5b7882b6",
   "metadata": {},
   "outputs": [
    {
     "data": {
      "application/vnd.jupyter.widget-view+json": {
       "model_id": "901d985a7fa04635b716ea63d683ac91",
       "version_major": 2,
       "version_minor": 0
      },
      "text/plain": [
       "VBox(children=(IntSlider(value=1, description='camConfig:', max=3, min=1), IntSlider(value=1, description='sit…"
      ]
     },
     "metadata": {},
     "output_type": "display_data"
    }
   ],
   "source": [
    "## SIMULATE OCCUANPCY DATA\n",
    "simulateOccupancyData()"
   ]
  },
  {
   "cell_type": "code",
   "execution_count": 7,
   "id": "72b7963a-441d-4b42-9368-58c1032233ea",
   "metadata": {},
   "outputs": [],
   "source": [
    "%R -i cwd\n",
    "%R -i trueOcc\n",
    "%R -i popPX\n",
    "%R -i N\n",
    "%R -i meanDetection"
   ]
  },
  {
   "cell_type": "code",
   "execution_count": 8,
   "id": "e2c08509-ccd4-4d50-8673-d8f4b2c98111",
   "metadata": {},
   "outputs": [],
   "source": [
    "%%R\n",
    "\n",
    "library(unmarked)\n",
    "options(warn=2)\n",
    "\n",
    "getParams = function(modObject){\n",
    "    \n",
    "    outParams = list()\n",
    "    psiTab = predict(modObject, type=\"state\",newdata=data.frame(1))\n",
    "    outParams$psi = psiTab$Predicted\n",
    "    outParams$psiSE = psiTab$SE\n",
    "    outParams$psiBias = outParams$psi - trueOcc\n",
    "    \n",
    "    pTab = predict(modObject, type=\"det\",newdata=data.frame(1))\n",
    "    outParams$p = pTab$Predicted\n",
    "    outParams$pSE = pTab$SE\n",
    "    outParams$pBias = outParams$p - meanDetection\n",
    "    \n",
    "    return(outParams)\n",
    "    }\n",
    "\n",
    "\n",
    "OccOutTab = data.frame(CamN = NA, IntervalsN = NA, Response = NA, Estimate = NA,\n",
    "                       SE = NA, Bias = NA, inSig = NA)\n",
    "\n",
    "\n",
    "dhScenDirs = list.dirs(paste0(cwd,'/Data/DetectionHistories'),recursive = FALSE)  \n",
    "# print(dhScenDirs)\n",
    "scenCount = 0\n",
    "FailCount = 0 \n",
    "\n",
    "for (dir in dhScenDirs){    \n",
    "\n",
    "    scenI = unlist(strsplit(dir,\"/\"))\n",
    "    scen = scenI[length(scenI)]\n",
    "    scen = unlist(strsplit(scen,\"_\"))\n",
    "    CameraNumber = scen[1]\n",
    "    VisitsNumber = scen[2]\n",
    "\n",
    "    dhScens = list.files(dir,pattern=\"\\\\.csv$\")\n",
    "    \n",
    "    for (scen in dhScens){        \n",
    "        dh = read.csv(paste0(dir,\"/\",scen),header=T)\n",
    "\n",
    "        ## fit model to scenario data\n",
    "        umf <- unmarkedFrameOccu(y=as.matrix(dh)) # organize data\n",
    "        fm <- try(occu(~1 ~1, umf)) # fit a model\n",
    "        modOut = try(coef(fm)) \n",
    "#         print('')\n",
    "#         print('')\n",
    "#         print(class(fm))\n",
    "        \n",
    "        if(class(modOut) != \"try-error\" ){    \n",
    "\n",
    "#             ## model outputs\n",
    "#             psiTab = predict(fm, type=\"state\",newdata=data.frame(1))\n",
    "#             psi = psiTab$Predicted\n",
    "#             psiSE = psiTab$SE\n",
    "#             psiBias = psi - trueOcc\n",
    "#             pTab = predict(fm, type=\"det\",newdata=data.frame(1))\n",
    "#             p = pTab$Predicted\n",
    "#             pSE = pTab$SE\n",
    "#             pBias = p - meanDetection\n",
    "            \n",
    "            OP = try(getParams(fm))\n",
    "            if(class(OP)!= \"try-error\"){\n",
    "\n",
    "                ## occupancy info\n",
    "                scenCount = scenCount + 1\n",
    "                OccOutTab[scenCount,\"CamN\"] = CameraNumber\n",
    "                OccOutTab[scenCount,\"IntervalsN\"] = VisitsNumber\n",
    "                OccOutTab[scenCount,\"Response\"] = \"psi\"\n",
    "                OccOutTab[scenCount,\"Estimate\"] = OP$psi\n",
    "                OccOutTab[scenCount,\"SE\"] = OP$psiSE\n",
    "                OccOutTab[scenCount,\"Bias\"] = OP$psiBias\n",
    "                OccOutTab[scenCount,\"inSig\"] = dplyr::between(0,OP$psi-(OP$psiSE*2.58),OP$psi+(OP$psiSE*2.58))\n",
    "\n",
    "                ## detection info\n",
    "                scenCount = scenCount + 1\n",
    "                OccOutTab[scenCount,\"CamN\"] = CameraNumber\n",
    "                OccOutTab[scenCount,\"IntervalsN\"] = VisitsNumber\n",
    "                OccOutTab[scenCount,\"Response\"] = \"p\"\n",
    "                OccOutTab[scenCount,\"Estimate\"] = OP$p\n",
    "                OccOutTab[scenCount,\"SE\"] = OP$pSE\n",
    "                OccOutTab[scenCount,\"Bias\"] = OP$pBias\n",
    "                OccOutTab[scenCount,\"inSig\"] = dplyr::between(0,OP$p-(OP$pSE*2.58),OP$p+(OP$pSE*2.58))\n",
    "            }\n",
    "            else{\n",
    "                FailCount = FailCount + 1 \n",
    "                print(\"Model failed\")\n",
    "            }\n",
    "        }\n",
    "        else{\n",
    "            FailCount = FailCount + 1 \n",
    "            print(\"Model failed\")\n",
    "        }\n",
    "    }\n",
    "}\n",
    "\n",
    "\n",
    "\n",
    "# print(\"Fit occupancy models to all detection histories.\")\n",
    "# print(paste0(FailCount,\" models failed.\"))"
   ]
  },
  {
   "cell_type": "code",
   "execution_count": 9,
   "id": "6c4b1d1c-e3bd-483e-b41b-7a9b501fa87f",
   "metadata": {},
   "outputs": [
    {
     "name": "stderr",
     "output_type": "stream",
     "text": [
      "R[write to console]: Loading required package: tidyverse\n",
      "\n"
     ]
    },
    {
     "name": "stdout",
     "output_type": "stream",
     "text": [
      "-- Attaching core tidyverse packages ---------------------------------------------------------------- tidyverse 2.0.0 --\n",
      "v dplyr     1.1.4     v readr     2.1.5\n",
      "v forcats   1.0.0     v stringr   1.5.1\n",
      "v ggplot2   3.5.1     v tibble    3.2.1\n",
      "v lubridate 1.9.4     v tidyr     1.3.1\n",
      "v purrr     1.0.2     \n",
      "-- Conflicts ---------------------------------------------------------------------------------- tidyverse_conflicts() --\n",
      "x dplyr::filter() masks stats::filter()\n",
      "x dplyr::lag()    masks stats::lag()\n",
      "i Use the conflicted package (<http://conflicted.r-lib.org/>) to force all conflicts to become errors\n",
      "`summarise()` has grouped output by 'CamN', 'IntervalsN'. You can override using the `.groups` argument.\n"
     ]
    }
   ],
   "source": [
    "%%R\n",
    "options(warn=1)\n",
    "# print(OccOutTab)\n",
    "require(tidyverse)\n",
    "\n",
    "# print(OccOutTab %>% filter(Estimate>0.9999))\n",
    "\n",
    "SumTab = OccOutTab %>%\n",
    "    filter(!inSig)%>%\n",
    "    group_by(CamN, IntervalsN, Response) %>%\n",
    "    summarise(\n",
    "        N = length(Estimate),\n",
    "        \n",
    "        meanEstimate = mean(Estimate),\n",
    "        sdEstimate = sd(Estimate),\n",
    "        seEstimate   = sdEstimate / sqrt(N),\n",
    "        UpperCI_Est = quantile(Estimate,probs = 0.9),\n",
    "        LowerCI_Est = quantile(Estimate,probs = 0.1),\n",
    "        \n",
    "        meanSE = mean(SE),\n",
    "        sdSE = sd(SE),\n",
    "        seSE   = sdSE / sqrt(N),\n",
    "        UpperCI_SE = quantile(SE,probs = 0.9),\n",
    "        LowerCI_SE = quantile(SE,probs = 0.1),\n",
    "        \n",
    "        meanBias = mean(Bias),\n",
    "        sdBias = sd(Bias),\n",
    "        seBias   = sdBias / sqrt(N),\n",
    "        UpperCI_Bias = quantile(Bias,probs = 0.9),\n",
    "        LowerCI_Bias = quantile(Bias,probs = 0.1)) %>%\n",
    "\n",
    "    mutate(CamN = as.factor(CamN),\n",
    "           Durations = as.numeric(IntervalsN))"
   ]
  },
  {
   "cell_type": "code",
   "execution_count": 10,
   "id": "9282cdc1-ee4b-442c-9448-1be8bf3e2b65",
   "metadata": {},
   "outputs": [
    {
     "name": "stderr",
     "output_type": "stream",
     "text": [
      "R[write to console]: Warning:\n",
      "R[write to console]:  Using `size` aesthetic for lines was deprecated in ggplot2 3.4.0.\n",
      "i Please use `linewidth` instead.\n",
      "This warning is displayed once every 8 hours.\n",
      "Call `lifecycle::last_lifecycle_warnings()` to see where this warning was generated.\n",
      "\n"
     ]
    },
    {
     "data": {
      "image/png": "[encoded data removed]"
     },
     "metadata": {},
     "output_type": "display_data"
    }
   ],
   "source": [
    "%%R\n",
    "\n",
    "pd <- position_dodge(0.5)\n",
    "SumTab %>%\n",
    "    filter(!is.na(sdEstimate),meanEstimate < 0.99, meanEstimate > 0.001)%>%\n",
    "    ggplot(\n",
    "        aes(x=Durations, y=meanBias,ymin=LowerCI_Bias, ymax=UpperCI_Bias, colour=CamN)) + \n",
    "        #aes(x=Durations, y=meanEstimate,ymin=UpperCI_Est, ymax=LowerCI_Est, colour=CamN)) +\n",
    "        geom_errorbar(width=0.1,position = pd)+\n",
    "        geom_point(size = 3, position = pd) +        \n",
    "        facet_grid(Response~.,scales=\"free\") +\n",
    "        geom_abline(size=0.5,intercept = 0, slope=0) "
   ]
  },
  {
   "cell_type": "code",
   "execution_count": 34,
   "id": "97953030-3971-4177-9de6-8a4f18efc9f9",
   "metadata": {},
   "outputs": [],
   "source": [
    "%%R -o plot_path\n",
    "\n",
    "library(ggplot2)\n",
    "library(dplyr)\n",
    "\n",
    "pd <- position_dodge(0.5)\n",
    "\n",
    "# Generate the plot\n",
    "plot <- SumTab %>%\n",
    "    filter(!is.na(sdEstimate), meanEstimate < 0.99, meanEstimate > 0.001) %>%\n",
    "    ggplot(\n",
    "        aes(x=Durations, y=meanBias, ymin=LowerCI_Bias, ymax=UpperCI_Bias, colour=CamN)\n",
    "    ) + \n",
    "        geom_errorbar(width=0.1, position=pd) +\n",
    "        geom_point(size=3, position=pd) +        \n",
    "        facet_grid(Response~., scales=\"free\") +\n",
    "        geom_abline(size=0.5, intercept=0, slope=0)\n",
    "\n",
    "# Save the plot as an image file\n",
    "plot_path <- \"my_plot.png\"  # Saves it in the current working directory\n",
    "ggsave(plot_path, plot, width=6, height=4, dpi=100)\n"
   ]
  },
  {
   "cell_type": "code",
   "execution_count": 35,
   "id": "e44e0709-bd6b-4a8f-81a7-3c92f0c8b12d",
   "metadata": {},
   "outputs": [
    {
     "name": "stdout",
     "output_type": "stream",
     "text": [
      "[1] \"my_plot.png\"\n",
      "\n"
     ]
    }
   ],
   "source": [
    "print(plot_path)"
   ]
  },
  {
   "cell_type": "code",
   "execution_count": 36,
   "id": "a30926d4-1838-46dd-bf02-0a09be65b7c5",
   "metadata": {},
   "outputs": [
    {
     "name": "stdout",
     "output_type": "stream",
     "text": [
      "Plot saved at: my_plot.png\n"
     ]
    },
    {
     "data": {
      "application/vnd.jupyter.widget-view+json": {
       "model_id": "a898e803ecfa4ba3aa62f66e39f97f8e",
       "version_major": 2,
       "version_minor": 0
      },
      "text/plain": [
       "VBox(children=(Image(value=b'\\x89PNG\\r\\n\\x1a\\n\\x00\\x00\\x00\\rIHDR\\x00\\x00\\x02X\\x00\\x00\\x01\\x90\\x08\\x02\\x00\\x00\\…"
      ]
     },
     "metadata": {},
     "output_type": "display_data"
    }
   ],
   "source": [
    "import ipywidgets as widgets\n",
    "from IPython.display import display, Image\n",
    "\n",
    "# Convert R's StrVector to a regular Python string\n",
    "plot_path = str(plot_path[0])  # Extract the string value\n",
    "\n",
    "# Ensure the path is correct\n",
    "print(\"Plot saved at:\", plot_path)  # Debugging step\n",
    "\n",
    "# Open and display the saved plot using ipywidgets\n",
    "with open(plot_path, \"rb\") as f:\n",
    "    plot_widget = widgets.Image(value=f.read(), format='png')\n",
    "\n",
    "# Wrap it inside a VBox container\n",
    "vbox_container = widgets.VBox([plot_widget])\n",
    "\n",
    "# Display the VBox containing the plot\n",
    "display(vbox_container)\n"
   ]
  },
  {
   "cell_type": "code",
   "execution_count": 38,
   "id": "0af4b8ed-748d-422c-9fef-f79b955f318a",
   "metadata": {},
   "outputs": [
    {
     "data": {
      "application/vnd.jupyter.widget-view+json": {
       "model_id": "d622249ebb6c40e9a8f9fd984caa362e",
       "version_major": 2,
       "version_minor": 0
      },
      "text/plain": [
       "FloatRangeSlider(value=(0.001, 0.99), continuous_update=False, description='Mean Estimate', max=1.0, step=0.01…"
      ]
     },
     "metadata": {},
     "output_type": "display_data"
    },
    {
     "data": {
      "application/vnd.jupyter.widget-view+json": {
       "model_id": "ac9f8875450f4000a9a099629418f9cd",
       "version_major": 2,
       "version_minor": 0
      },
      "text/plain": [
       "Output()"
      ]
     },
     "metadata": {},
     "output_type": "display_data"
    }
   ],
   "source": [
    "import ipywidgets as widgets\n",
    "from IPython.display import display, clear_output\n",
    "import rpy2.robjects as ro\n",
    "from rpy2.robjects.packages import importr\n",
    "import rpy2.robjects.pandas2ri\n",
    "\n",
    "# Activate automatic conversion between pandas and R dataframes\n",
    "rpy2.robjects.pandas2ri.activate()\n",
    "\n",
    "# Define UI widgets for input adjustments\n",
    "mean_estimate_slider = widgets.FloatRangeSlider(\n",
    "    value=[0.001, 0.99], min=0.0, max=1.0, step=0.01,\n",
    "    description=\"Mean Estimate\",\n",
    "    continuous_update=False\n",
    ")\n",
    "\n",
    "# Output widget for displaying the plot\n",
    "plot_output = widgets.Output()\n",
    "\n",
    "# Function to update the plot dynamically\n",
    "def update_plot(change):\n",
    "    with plot_output:\n",
    "        clear_output(wait=True)  # Clear previous output before updating\n",
    "\n",
    "        # Convert Python slider values to R\n",
    "        min_estimate, max_estimate = mean_estimate_slider.value\n",
    "        ro.r.assign(\"min_estimate\", min_estimate)\n",
    "        ro.r.assign(\"max_estimate\", max_estimate)\n",
    "\n",
    "        # Execute R code to generate the plot\n",
    "        ro.r('''\n",
    "            library(ggplot2)\n",
    "            library(dplyr)\n",
    "            pd <- position_dodge(0.5)\n",
    "\n",
    "            # Filter data dynamically\n",
    "            plot <- SumTab %>%\n",
    "                filter(!is.na(sdEstimate), meanEstimate < max_estimate, meanEstimate > min_estimate) %>%\n",
    "                ggplot(\n",
    "                    aes(x=Durations, y=meanBias, ymin=LowerCI_Bias, ymax=UpperCI_Bias, colour=CamN)\n",
    "                ) + \n",
    "                    geom_errorbar(width=0.1, position=pd) +\n",
    "                    geom_point(size=3, position=pd) +        \n",
    "                    facet_grid(Response~., scales=\"free\") +\n",
    "                    geom_abline(size=0.5, intercept=0, slope=0)\n",
    "\n",
    "            # Save plot to a temporary file\n",
    "            plot_path <- tempfile(fileext=\".png\")\n",
    "            ggsave(plot_path, plot, width=6, height=4, dpi=100)\n",
    "        ''')\n",
    "\n",
    "        # Retrieve the saved plot path\n",
    "        plot_path = str(ro.r('plot_path')[0])  # Convert R StrVector to Python string\n",
    "\n",
    "        # Display updated plot\n",
    "        with open(plot_path, \"rb\") as f:\n",
    "            img_widget = widgets.Image(value=f.read(), format='png')\n",
    "\n",
    "        display(img_widget)\n",
    "\n",
    "# Attach the update function to the slider\n",
    "mean_estimate_slider.observe(update_plot, names='value')\n",
    "\n",
    "# Display UI and initialize the first plot\n",
    "display(mean_estimate_slider, plot_output)\n",
    "\n",
    "# Generate the initial plot\n",
    "update_plot(None)\n"
   ]
  },
  {
   "cell_type": "code",
   "execution_count": null,
   "id": "8e4c9f29-e5b3-471c-8b8a-6e6f7bb116c9",
   "metadata": {},
   "outputs": [],
   "source": []
  },
  {
   "cell_type": "code",
   "execution_count": null,
   "id": "26a7ae2b-5ee9-4e84-89ee-f2b5d8c8a8de",
   "metadata": {},
   "outputs": [],
   "source": []
  },
  {
   "cell_type": "code",
   "execution_count": null,
   "id": "964736b3-ccd0-4d32-8b15-e8a403f33eda",
   "metadata": {},
   "outputs": [],
   "source": []
  },
  {
   "cell_type": "code",
   "execution_count": null,
   "id": "9b5074bb-feb7-4f08-afd0-514e6853faf6",
   "metadata": {},
   "outputs": [],
   "source": []
  },
  {
   "cell_type": "code",
   "execution_count": null,
   "id": "4d19c3ba-da9c-434d-b0d6-eaa642cb3283",
   "metadata": {},
   "outputs": [],
   "source": []
  },
  {
   "cell_type": "code",
   "execution_count": null,
   "id": "9df1a366-d38f-4561-bf05-a9f1caa50e64",
   "metadata": {},
   "outputs": [],
   "source": []
  },
  {
   "cell_type": "code",
   "execution_count": null,
   "id": "64270e3b-21b2-496d-8d7d-092aefebdaba",
   "metadata": {},
   "outputs": [],
   "source": []
  },
  {
   "cell_type": "code",
   "execution_count": null,
   "id": "9fc49f1b-9d66-4a0c-90b0-21636b586713",
   "metadata": {},
   "outputs": [],
   "source": []
  }
 ],
 "metadata": {
  "kernelspec": {
   "display_name": "Python3(ericapp)",
   "language": "python",
   "name": "ericapp"
  },
  "language_info": {
   "codemirror_mode": {
    "name": "ipython",
    "version": 3
   },
   "file_extension": ".py",
   "mimetype": "text/x-python",
   "name": "python",
   "nbconvert_exporter": "python",
   "pygments_lexer": "ipython3",
   "version": "3.13.1"
  }
 },
 "nbformat": 4,
 "nbformat_minor": 5
}
