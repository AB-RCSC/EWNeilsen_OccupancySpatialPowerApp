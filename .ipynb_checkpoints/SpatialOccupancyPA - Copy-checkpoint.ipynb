{
 "cells": [
  {
   "cell_type": "code",
   "execution_count": 1,
   "id": "fde28711",
   "metadata": {},
   "outputs": [],
   "source": [
    "%%capture\n",
    "import os\n",
    "from IPython.display import Javascript\n",
    "\n",
    "os.environ['R_HOME'] = 'C:\\Program Files\\R\\R-4.4.2'"
   ]
  },
  {
   "cell_type": "code",
   "execution_count": 2,
   "id": "2f206531-1710-40eb-8a4e-d06091997f02",
   "metadata": {},
   "outputs": [],
   "source": [
    "# !python -m ipykernel install --user --name=ericapp --display-name \"Python3(ericapp)\""
   ]
  },
  {
   "cell_type": "code",
   "execution_count": 3,
   "id": "8fac2cc3-54e3-419b-98c8-6f3fbb02e159",
   "metadata": {},
   "outputs": [
    {
     "name": "stderr",
     "output_type": "stream",
     "text": [
      "C:\\Users\\alifr\\anaconda3\\envs\\ericapp\\Lib\\site-packages\\rpy2\\robjects\\packages.py:366: UserWarning: The symbol 'quartz' is not in this R namespace/package.\n",
      "  warnings.warn(\n"
     ]
    }
   ],
   "source": [
    "%load_ext rpy2.ipython\n",
    "%run -i ./MDT_Functions_copy.py"
   ]
  },
  {
   "cell_type": "code",
   "execution_count": 4,
   "id": "1da3d14f",
   "metadata": {},
   "outputs": [
    {
     "name": "stdout",
     "output_type": "stream",
     "text": [
      "D:\\ABMI_Official\\EricCodePractice\\EWNeilsen_OccupancySpatialPowerApp\n",
      "The study area has (417996.4415538451, 795945.195356781, 1126884.4543278955, 1581144.825542611). \n",
      "It has 76 rows and 91 columns.\n",
      "\n",
      "------------------\n",
      "Finished inputing Use vars: ['elevation', 'water_proximity']\n",
      "\n"
     ]
    },
    {
     "name": "stderr",
     "output_type": "stream",
     "text": [
      "C:\\Users\\alifr\\anaconda3\\envs\\ericapp\\Lib\\site-packages\\osgeo\\gdal.py:311: FutureWarning: Neither gdal.UseExceptions() nor gdal.DontUseExceptions() has been explicitly called. In GDAL 4.0, exceptions will be enabled by default.\n",
      "  warnings.warn(\n"
     ]
    },
    {
     "data": {
      "application/vnd.jupyter.widget-view+json": {
       "model_id": "c4e65c7d6cd34c4d919d98a1557779b2",
       "version_major": 2,
       "version_minor": 0
      },
      "text/plain": [
       "HBox(children=(VBox(children=(FloatSlider(value=0.5, description='trueOcc:', max=1.0, min=0.01), FloatSlider(v…"
      ]
     },
     "metadata": {},
     "output_type": "display_data"
    }
   ],
   "source": [
    "0.01### INPUT DATA\n",
    "inputSpatial()\n",
    "\n",
    "# SIMULATE RESPONSE\n",
    "simulateReponse()\n",
    "\n",
    "# ## simulate resposne\n",
    "# Javascript(\"Jupyter.notebook.execute_cells([2])\")"
   ]
  },
  {
   "cell_type": "code",
   "execution_count": 5,
   "id": "c05fdf88-99e3-4be7-8f24-b18113359e1f",
   "metadata": {},
   "outputs": [],
   "source": [
    "# print(saAreaKM)"
   ]
  },
  {
   "cell_type": "code",
   "execution_count": 6,
   "id": "72e6ea7c-9588-4642-9491-79de5b7882b6",
   "metadata": {},
   "outputs": [
    {
     "data": {
      "application/vnd.jupyter.widget-view+json": {
       "model_id": "fd1da1b1e16642ef9af915eaf5c41aa5",
       "version_major": 2,
       "version_minor": 0
      },
      "text/plain": [
       "VBox(children=(IntSlider(value=1, description='camConfig:', max=3, min=1), IntSlider(value=1, description='sit…"
      ]
     },
     "metadata": {},
     "output_type": "display_data"
    },
    {
     "name": "stdout",
     "output_type": "stream",
     "text": [
      "D:\\ABMI_Official\\EricCodePractice\\EWNeilsen_OccupancySpatialPowerApp\n"
     ]
    }
   ],
   "source": [
    "## SIMULATE OCCUANPCY DATA\n",
    "simulateOccupancyData()"
   ]
  },
  {
   "cell_type": "code",
   "execution_count": 7,
   "id": "72b7963a-441d-4b42-9368-58c1032233ea",
   "metadata": {},
   "outputs": [],
   "source": [
    "%R -i cwd\n",
    "%R -i trueOcc\n",
    "%R -i popPX\n",
    "%R -i N\n",
    "%R -i meanDetection"
   ]
  },
  {
   "cell_type": "code",
   "execution_count": 11,
   "id": "28878d7c-8cd3-4f20-a0f0-05b7d86f874e",
   "metadata": {},
   "outputs": [
    {
     "name": "stdout",
     "output_type": "stream",
     "text": [
      "[1] \"D:\\\\ABMI_Official\\\\EricCodePractice\\\\EWNeilsen_OccupancySpatialPowerApp\"\n",
      "[1] 0.51\n",
      "[1] 1\n",
      "[1] 44125.57\n",
      "[1] 0.5400442\n"
     ]
    }
   ],
   "source": [
    "%%R\n",
    "\n",
    "print(cwd)\n",
    "print(trueOcc)\n",
    "print(popPX)\n",
    "print(N)\n",
    "print(meanDetection)"
   ]
  },
  {
   "cell_type": "code",
   "execution_count": 13,
   "id": "3522cd0a-17a3-4c42-a4f6-beffc6df1a0a",
   "metadata": {},
   "outputs": [
    {
     "name": "stdout",
     "output_type": "stream",
     "text": [
      " [1] \"D:\\\\ABMI_Official\\\\EricCodePractice\\\\EWNeilsen_OccupancySpatialPowerApp/Data/DetectionHistories/12_2\"\n",
      " [2] \"D:\\\\ABMI_Official\\\\EricCodePractice\\\\EWNeilsen_OccupancySpatialPowerApp/Data/DetectionHistories/12_3\"\n",
      " [3] \"D:\\\\ABMI_Official\\\\EricCodePractice\\\\EWNeilsen_OccupancySpatialPowerApp/Data/DetectionHistories/12_4\"\n",
      " [4] \"D:\\\\ABMI_Official\\\\EricCodePractice\\\\EWNeilsen_OccupancySpatialPowerApp/Data/DetectionHistories/12_5\"\n",
      " [5] \"D:\\\\ABMI_Official\\\\EricCodePractice\\\\EWNeilsen_OccupancySpatialPowerApp/Data/DetectionHistories/12_6\"\n",
      " [6] \"D:\\\\ABMI_Official\\\\EricCodePractice\\\\EWNeilsen_OccupancySpatialPowerApp/Data/DetectionHistories/21_4\"\n",
      " [7] \"D:\\\\ABMI_Official\\\\EricCodePractice\\\\EWNeilsen_OccupancySpatialPowerApp/Data/DetectionHistories/21_6\"\n",
      " [8] \"D:\\\\ABMI_Official\\\\EricCodePractice\\\\EWNeilsen_OccupancySpatialPowerApp/Data/DetectionHistories/23_2\"\n",
      " [9] \"D:\\\\ABMI_Official\\\\EricCodePractice\\\\EWNeilsen_OccupancySpatialPowerApp/Data/DetectionHistories/23_3\"\n",
      "[10] \"D:\\\\ABMI_Official\\\\EricCodePractice\\\\EWNeilsen_OccupancySpatialPowerApp/Data/DetectionHistories/23_4\"\n",
      "[11] \"D:\\\\ABMI_Official\\\\EricCodePractice\\\\EWNeilsen_OccupancySpatialPowerApp/Data/DetectionHistories/23_5\"\n",
      "[12] \"D:\\\\ABMI_Official\\\\EricCodePractice\\\\EWNeilsen_OccupancySpatialPowerApp/Data/DetectionHistories/23_6\"\n",
      "[13] \"D:\\\\ABMI_Official\\\\EricCodePractice\\\\EWNeilsen_OccupancySpatialPowerApp/Data/DetectionHistories/34_2\"\n",
      "[14] \"D:\\\\ABMI_Official\\\\EricCodePractice\\\\EWNeilsen_OccupancySpatialPowerApp/Data/DetectionHistories/34_3\"\n",
      "[15] \"D:\\\\ABMI_Official\\\\EricCodePractice\\\\EWNeilsen_OccupancySpatialPowerApp/Data/DetectionHistories/34_4\"\n",
      "[16] \"D:\\\\ABMI_Official\\\\EricCodePractice\\\\EWNeilsen_OccupancySpatialPowerApp/Data/DetectionHistories/34_5\"\n",
      "[17] \"D:\\\\ABMI_Official\\\\EricCodePractice\\\\EWNeilsen_OccupancySpatialPowerApp/Data/DetectionHistories/34_6\"\n",
      "[18] \"D:\\\\ABMI_Official\\\\EricCodePractice\\\\EWNeilsen_OccupancySpatialPowerApp/Data/DetectionHistories/36_4\"\n",
      "[19] \"D:\\\\ABMI_Official\\\\EricCodePractice\\\\EWNeilsen_OccupancySpatialPowerApp/Data/DetectionHistories/36_6\"\n",
      "[20] \"D:\\\\ABMI_Official\\\\EricCodePractice\\\\EWNeilsen_OccupancySpatialPowerApp/Data/DetectionHistories/41_4\"\n",
      "[21] \"D:\\\\ABMI_Official\\\\EricCodePractice\\\\EWNeilsen_OccupancySpatialPowerApp/Data/DetectionHistories/41_6\"\n",
      "[22] \"D:\\\\ABMI_Official\\\\EricCodePractice\\\\EWNeilsen_OccupancySpatialPowerApp/Data/DetectionHistories/45_2\"\n",
      "[23] \"D:\\\\ABMI_Official\\\\EricCodePractice\\\\EWNeilsen_OccupancySpatialPowerApp/Data/DetectionHistories/45_3\"\n",
      "[24] \"D:\\\\ABMI_Official\\\\EricCodePractice\\\\EWNeilsen_OccupancySpatialPowerApp/Data/DetectionHistories/45_4\"\n",
      "[25] \"D:\\\\ABMI_Official\\\\EricCodePractice\\\\EWNeilsen_OccupancySpatialPowerApp/Data/DetectionHistories/45_5\"\n",
      "[26] \"D:\\\\ABMI_Official\\\\EricCodePractice\\\\EWNeilsen_OccupancySpatialPowerApp/Data/DetectionHistories/45_6\"\n",
      "[27] \"D:\\\\ABMI_Official\\\\EricCodePractice\\\\EWNeilsen_OccupancySpatialPowerApp/Data/DetectionHistories/51_4\"\n",
      "[28] \"D:\\\\ABMI_Official\\\\EricCodePractice\\\\EWNeilsen_OccupancySpatialPowerApp/Data/DetectionHistories/51_6\"\n",
      "[29] \"D:\\\\ABMI_Official\\\\EricCodePractice\\\\EWNeilsen_OccupancySpatialPowerApp/Data/DetectionHistories/56_2\"\n",
      "[30] \"D:\\\\ABMI_Official\\\\EricCodePractice\\\\EWNeilsen_OccupancySpatialPowerApp/Data/DetectionHistories/56_3\"\n",
      "[31] \"D:\\\\ABMI_Official\\\\EricCodePractice\\\\EWNeilsen_OccupancySpatialPowerApp/Data/DetectionHistories/56_4\"\n",
      "[32] \"D:\\\\ABMI_Official\\\\EricCodePractice\\\\EWNeilsen_OccupancySpatialPowerApp/Data/DetectionHistories/56_5\"\n",
      "[33] \"D:\\\\ABMI_Official\\\\EricCodePractice\\\\EWNeilsen_OccupancySpatialPowerApp/Data/DetectionHistories/56_6\"\n",
      "[34] \"D:\\\\ABMI_Official\\\\EricCodePractice\\\\EWNeilsen_OccupancySpatialPowerApp/Data/DetectionHistories/67_2\"\n",
      "[35] \"D:\\\\ABMI_Official\\\\EricCodePractice\\\\EWNeilsen_OccupancySpatialPowerApp/Data/DetectionHistories/67_3\"\n",
      "[36] \"D:\\\\ABMI_Official\\\\EricCodePractice\\\\EWNeilsen_OccupancySpatialPowerApp/Data/DetectionHistories/67_4\"\n",
      "[37] \"D:\\\\ABMI_Official\\\\EricCodePractice\\\\EWNeilsen_OccupancySpatialPowerApp/Data/DetectionHistories/67_5\"\n",
      "[38] \"D:\\\\ABMI_Official\\\\EricCodePractice\\\\EWNeilsen_OccupancySpatialPowerApp/Data/DetectionHistories/67_6\"\n",
      "[39] \"D:\\\\ABMI_Official\\\\EricCodePractice\\\\EWNeilsen_OccupancySpatialPowerApp/Data/DetectionHistories/78_2\"\n",
      "[40] \"D:\\\\ABMI_Official\\\\EricCodePractice\\\\EWNeilsen_OccupancySpatialPowerApp/Data/DetectionHistories/78_3\"\n",
      "[41] \"D:\\\\ABMI_Official\\\\EricCodePractice\\\\EWNeilsen_OccupancySpatialPowerApp/Data/DetectionHistories/78_4\"\n",
      "[42] \"D:\\\\ABMI_Official\\\\EricCodePractice\\\\EWNeilsen_OccupancySpatialPowerApp/Data/DetectionHistories/78_5\"\n",
      "[43] \"D:\\\\ABMI_Official\\\\EricCodePractice\\\\EWNeilsen_OccupancySpatialPowerApp/Data/DetectionHistories/78_6\"\n",
      "[44] \"D:\\\\ABMI_Official\\\\EricCodePractice\\\\EWNeilsen_OccupancySpatialPowerApp/Data/DetectionHistories/89_2\"\n",
      "[45] \"D:\\\\ABMI_Official\\\\EricCodePractice\\\\EWNeilsen_OccupancySpatialPowerApp/Data/DetectionHistories/89_3\"\n",
      "[46] \"D:\\\\ABMI_Official\\\\EricCodePractice\\\\EWNeilsen_OccupancySpatialPowerApp/Data/DetectionHistories/89_4\"\n",
      "[47] \"D:\\\\ABMI_Official\\\\EricCodePractice\\\\EWNeilsen_OccupancySpatialPowerApp/Data/DetectionHistories/89_5\"\n",
      "[48] \"D:\\\\ABMI_Official\\\\EricCodePractice\\\\EWNeilsen_OccupancySpatialPowerApp/Data/DetectionHistories/89_6\"\n"
     ]
    }
   ],
   "source": [
    "%%R\n",
    "\n",
    "library(unmarked)\n",
    "options(warn=2)\n",
    "\n",
    "getParams = function(modObject){\n",
    "    \n",
    "    outParams = list()\n",
    "    psiTab = predict(modObject, type=\"state\",newdata=data.frame(1))\n",
    "    outParams$psi = psiTab$Predicted\n",
    "    outParams$psiSE = psiTab$SE\n",
    "    outParams$psiBias = outParams$psi - trueOcc\n",
    "    \n",
    "    pTab = predict(modObject, type=\"det\",newdata=data.frame(1))\n",
    "    outParams$p = pTab$Predicted\n",
    "    outParams$pSE = pTab$SE\n",
    "    outParams$pBias = outParams$p - meanDetection\n",
    "    \n",
    "    return(outParams)\n",
    "    }\n",
    "\n",
    "\n",
    "OccOutTab = data.frame(CamN = NA, IntervalsN = NA, Response = NA, Estimate = NA,\n",
    "                       SE = NA, Bias = NA, inSig = NA)\n",
    "\n",
    "\n",
    "dhScenDirs = list.dirs(paste0(cwd,'/Data/DetectionHistories'),recursive = FALSE)  \n",
    "# print(dhScenDirs)\n",
    "scenCount = 0\n",
    "FailCount = 0 \n",
    "\n",
    "for (dir in dhScenDirs){    \n",
    "\n",
    "    scenI = unlist(strsplit(dir,\"/\"))\n",
    "    scen = scenI[length(scenI)]\n",
    "    scen = unlist(strsplit(scen,\"_\"))\n",
    "    CameraNumber = scen[1]\n",
    "    VisitsNumber = scen[2]\n",
    "\n",
    "    dhScens = list.files(dir,pattern=\"\\\\.csv$\")\n",
    "    \n",
    "    for (scen in dhScens){        \n",
    "        dh = read.csv(paste0(dir,\"/\",scen),header=T)\n",
    "\n",
    "        ## fit model to scenario data\n",
    "        umf <- unmarkedFrameOccu(y=as.matrix(dh)) # organize data\n",
    "        fm <- try(occu(~1 ~1, umf)) # fit a model\n",
    "        modOut = try(coef(fm)) \n",
    "#         print('')\n",
    "#         print('')\n",
    "#         print(class(fm))\n",
    "        \n",
    "        if(class(modOut) != \"try-error\" ){    \n",
    "\n",
    "#             ## model outputs\n",
    "#             psiTab = predict(fm, type=\"state\",newdata=data.frame(1))\n",
    "#             psi = psiTab$Predicted\n",
    "#             psiSE = psiTab$SE\n",
    "#             psiBias = psi - trueOcc\n",
    "#             pTab = predict(fm, type=\"det\",newdata=data.frame(1))\n",
    "#             p = pTab$Predicted\n",
    "#             pSE = pTab$SE\n",
    "#             pBias = p - meanDetection\n",
    "            \n",
    "            OP = try(getParams(fm))\n",
    "            if(class(OP)!= \"try-error\"){\n",
    "\n",
    "                ## occupancy info\n",
    "                scenCount = scenCount + 1\n",
    "                OccOutTab[scenCount,\"CamN\"] = CameraNumber\n",
    "                OccOutTab[scenCount,\"IntervalsN\"] = VisitsNumber\n",
    "                OccOutTab[scenCount,\"Response\"] = \"psi\"\n",
    "                OccOutTab[scenCount,\"Estimate\"] = OP$psi\n",
    "                OccOutTab[scenCount,\"SE\"] = OP$psiSE\n",
    "                OccOutTab[scenCount,\"Bias\"] = OP$psiBias\n",
    "                OccOutTab[scenCount,\"inSig\"] = dplyr::between(0,OP$psi-(OP$psiSE*2.58),OP$psi+(OP$psiSE*2.58))\n",
    "\n",
    "                ## detection info\n",
    "                scenCount = scenCount + 1\n",
    "                OccOutTab[scenCount,\"CamN\"] = CameraNumber\n",
    "                OccOutTab[scenCount,\"IntervalsN\"] = VisitsNumber\n",
    "                OccOutTab[scenCount,\"Response\"] = \"p\"\n",
    "                OccOutTab[scenCount,\"Estimate\"] = OP$p\n",
    "                OccOutTab[scenCount,\"SE\"] = OP$pSE\n",
    "                OccOutTab[scenCount,\"Bias\"] = OP$pBias\n",
    "                OccOutTab[scenCount,\"inSig\"] = dplyr::between(0,OP$p-(OP$pSE*2.58),OP$p+(OP$pSE*2.58))\n",
    "            }\n",
    "            else{\n",
    "                FailCount = FailCount + 1 \n",
    "                print(\"Model failed\")\n",
    "            }\n",
    "        }\n",
    "        else{\n",
    "            FailCount = FailCount + 1 \n",
    "            print(\"Model failed\")\n",
    "        }\n",
    "    }\n",
    "}\n",
    "\n",
    "\n",
    "\n",
    "print(\"Fit occupancy models to all detection histories.\")\n",
    "print(paste0(FailCount,\" models failed.\"))"
   ]
  },
  {
   "cell_type": "code",
   "execution_count": null,
   "id": "dfc54004-65e6-4df6-9210-b14a8602b90c",
   "metadata": {},
   "outputs": [],
   "source": []
  },
  {
   "cell_type": "code",
   "execution_count": null,
   "id": "df2212e4-a1ad-4f42-b7ef-2d9a37731d11",
   "metadata": {},
   "outputs": [],
   "source": []
  },
  {
   "cell_type": "code",
   "execution_count": null,
   "id": "c6ad7381-1444-4aad-a210-f160e0bce3db",
   "metadata": {},
   "outputs": [],
   "source": []
  },
  {
   "cell_type": "code",
   "execution_count": null,
   "id": "83368ff9-b2b0-4416-9964-d432e66821e3",
   "metadata": {},
   "outputs": [],
   "source": []
  },
  {
   "cell_type": "code",
   "execution_count": null,
   "id": "78745163-4fc7-4ce1-b088-47628f2ceb83",
   "metadata": {},
   "outputs": [],
   "source": []
  },
  {
   "cell_type": "code",
   "execution_count": 7,
   "id": "0c85b051-3d7a-46c0-96a3-edd13b87c9de",
   "metadata": {},
   "outputs": [],
   "source": [
    "# !pip install ipyleaflet"
   ]
  },
  {
   "cell_type": "code",
   "execution_count": 28,
   "id": "ce96260c-05bb-493d-8906-d7a5cc20d1ca",
   "metadata": {},
   "outputs": [],
   "source": [
    "plot_output = widgets.Output()"
   ]
  },
  {
   "cell_type": "code",
   "execution_count": 29,
   "id": "220778c4-ea2c-4995-bd87-5c024bb168d5",
   "metadata": {},
   "outputs": [],
   "source": [
    "def update_center(value):\n",
    "    with plot_output:\n",
    "        plot_output.clear_output(wait=True)\n",
    "        print(value)"
   ]
  },
  {
   "cell_type": "code",
   "execution_count": 30,
   "id": "6fa78f58-2bf6-4332-a4b3-107bae1ae9ca",
   "metadata": {},
   "outputs": [],
   "source": [
    "def on_location_changed(event):\n",
    "    value = marker.location\n",
    "    update_center(value)\n",
    "\n",
    "marker.observe(on_location_changed, 'location')"
   ]
  },
  {
   "cell_type": "code",
   "execution_count": 31,
   "id": "9dcd1f2d-c0a7-4053-b247-b6f5f0209c43",
   "metadata": {},
   "outputs": [
    {
     "data": {
      "application/vnd.jupyter.widget-view+json": {
       "model_id": "652267c031574188b665881ff7871cff",
       "version_major": 2,
       "version_minor": 0
      },
      "text/plain": [
       "Map(center=[52.204793, 360.121558], controls=(ZoomControl(options=['position', 'zoom_in_text', 'zoom_in_title'…"
      ]
     },
     "metadata": {},
     "output_type": "display_data"
    }
   ],
   "source": [
    "import ipywidgets as widgets\n",
    "from ipyleaflet import Map, Marker\n",
    "from IPython.display import display\n",
    "\n",
    "center = (52.204793, 360.121558)\n",
    "map = Map(center=center, zoom=12)\n",
    "\n",
    "# Add a draggable marker to the map\n",
    "# Dragging the marker updates the marker.location value in Python\n",
    "marker = Marker(location=center, draggable=True)\n",
    "# print(marker.location)\n",
    "map.add_control(marker)\n",
    "\n",
    "display(map)"
   ]
  },
  {
   "cell_type": "code",
   "execution_count": null,
   "id": "6af3f18a-dca5-41d0-bd89-c79fefde0b55",
   "metadata": {},
   "outputs": [],
   "source": []
  }
 ],
 "metadata": {
  "kernelspec": {
   "display_name": "Python3(ericapp)",
   "language": "python",
   "name": "ericapp"
  },
  "language_info": {
   "codemirror_mode": {
    "name": "ipython",
    "version": 3
   },
   "file_extension": ".py",
   "mimetype": "text/x-python",
   "name": "python",
   "nbconvert_exporter": "python",
   "pygments_lexer": "ipython3",
   "version": "3.13.1"
  }
 },
 "nbformat": 4,
 "nbformat_minor": 5
}
