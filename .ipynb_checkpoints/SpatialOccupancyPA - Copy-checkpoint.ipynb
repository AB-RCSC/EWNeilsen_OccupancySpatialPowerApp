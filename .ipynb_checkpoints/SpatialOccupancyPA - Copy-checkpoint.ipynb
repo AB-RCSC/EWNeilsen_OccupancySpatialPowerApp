{
 "cells": [
  {
   "cell_type": "code",
   "execution_count": 5,
   "id": "fde28711",
   "metadata": {},
   "outputs": [],
   "source": [
    "%%capture\n",
    "import os\n",
    "from IPython.display import Javascript\n",
    "\n",
    "os.environ['R_HOME'] = 'C:\\Program Files\\R\\R-4.4.2'"
   ]
  },
  {
   "cell_type": "code",
   "execution_count": 6,
   "id": "2f206531-1710-40eb-8a4e-d06091997f02",
   "metadata": {},
   "outputs": [],
   "source": [
    "# !python -m ipykernel install --user --name=ericapp --display-name \"Python3(ericapp)\""
   ]
  },
  {
   "cell_type": "code",
   "execution_count": 14,
   "id": "8fac2cc3-54e3-419b-98c8-6f3fbb02e159",
   "metadata": {},
   "outputs": [
    {
     "name": "stdout",
     "output_type": "stream",
     "text": [
      "The rpy2.ipython extension is already loaded. To reload it, use:\n",
      "  %reload_ext rpy2.ipython\n"
     ]
    }
   ],
   "source": [
    "%load_ext rpy2.ipython\n",
    "%run -i ./MDT_Functions_copy.py"
   ]
  },
  {
   "cell_type": "code",
   "execution_count": 15,
   "id": "1da3d14f",
   "metadata": {},
   "outputs": [
    {
     "name": "stdout",
     "output_type": "stream",
     "text": [
      "D:\\ABMI_Official\\Eric's Code\\RCDecisionSupportTool\n",
      "The study area has (417996.4415538451, 795945.195356781, 1126884.4543278955, 1581144.825542611). \n",
      "It has 76 rows and 91 columns.\n",
      "\n",
      "------------------\n",
      "Finished inputing Use vars: ['elevation', 'water_proximity']\n",
      "\n"
     ]
    },
    {
     "data": {
      "application/vnd.jupyter.widget-view+json": {
       "model_id": "76c7e22b6a8540f1bc50e48db31c94fb",
       "version_major": 2,
       "version_minor": 0
      },
      "text/plain": [
       "HBox(children=(VBox(children=(FloatSlider(value=0.5, description='trueOcc:', max=1.0, min=0.01), FloatSlider(v…"
      ]
     },
     "metadata": {},
     "output_type": "display_data"
    }
   ],
   "source": [
    "0.01### INPUT DATA\n",
    "inputSpatial()\n",
    "\n",
    "# SIMULATE RESPONSE\n",
    "simulateReponse()\n",
    "\n",
    "# ## simulate resposne\n",
    "# Javascript(\"Jupyter.notebook.execute_cells([2])\")"
   ]
  },
  {
   "cell_type": "code",
   "execution_count": 16,
   "id": "c05fdf88-99e3-4be7-8f24-b18113359e1f",
   "metadata": {},
   "outputs": [],
   "source": [
    "# print(saAreaKM)"
   ]
  },
  {
   "cell_type": "code",
   "execution_count": 17,
   "id": "72e6ea7c-9588-4642-9491-79de5b7882b6",
   "metadata": {},
   "outputs": [
    {
     "data": {
      "application/vnd.jupyter.widget-view+json": {
       "model_id": "ebcb6a4857694785a61f089427cd06a0",
       "version_major": 2,
       "version_minor": 0
      },
      "text/plain": [
       "VBox(children=(IntSlider(value=1, description='camConfig:', max=1000, min=1), IntSlider(value=1, description='…"
      ]
     },
     "metadata": {},
     "output_type": "display_data"
    }
   ],
   "source": [
    "## SIMULATE OCCUANPCY DATA\n",
    "simulateOccupancyData()"
   ]
  },
  {
   "cell_type": "code",
   "execution_count": null,
   "id": "72b7963a-441d-4b42-9368-58c1032233ea",
   "metadata": {},
   "outputs": [],
   "source": []
  }
 ],
 "metadata": {
  "kernelspec": {
   "display_name": "Python3(ericapp)",
   "language": "python",
   "name": "ericapp"
  },
  "language_info": {
   "codemirror_mode": {
    "name": "ipython",
    "version": 3
   },
   "file_extension": ".py",
   "mimetype": "text/x-python",
   "name": "python",
   "nbconvert_exporter": "python",
   "pygments_lexer": "ipython3",
   "version": "3.13.1"
  }
 },
 "nbformat": 4,
 "nbformat_minor": 5
}
